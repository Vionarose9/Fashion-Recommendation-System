{
  "metadata": {
    "colab": {
      "provenance": []
    },
    "kernelspec": {
      "name": "python3",
      "display_name": "Python 3",
      "language": "python"
    },
    "language_info": {
      "name": "python",
      "version": "3.10.13",
      "mimetype": "text/x-python",
      "codemirror_mode": {
        "name": "ipython",
        "version": 3
      },
      "pygments_lexer": "ipython3",
      "nbconvert_exporter": "python",
      "file_extension": ".py"
    },
    "kaggle": {
      "accelerator": "none",
      "dataSources": [
        {
          "sourceId": 396802,
          "sourceType": "datasetVersion",
          "datasetId": 175990
        },
        {
          "sourceId": 9034778,
          "sourceType": "datasetVersion",
          "datasetId": 5445995
        },
        {
          "sourceId": 9034779,
          "sourceType": "datasetVersion",
          "datasetId": 5445996
        }
      ],
      "dockerImageVersionId": 30746,
      "isInternetEnabled": true,
      "language": "python",
      "sourceType": "notebook",
      "isGpuEnabled": false
    }
  },
  "nbformat_minor": 0,
  "nbformat": 4,
  "cells": [
    {
      "cell_type": "markdown",
      "source": [
        "# **Node2Vec Based Graph Convolutional Network**"
      ],
      "metadata": {
        "id": "g5vOxCXLmEa7"
      }
    },
    {
      "cell_type": "markdown",
      "source": [
        "Uploading Dataset"
      ],
      "metadata": {
        "id": "SRlOSl0Z_ybB"
      }
    },
    {
      "cell_type": "code",
      "source": [
        "!mkdir -p ~/.kaggle\n",
        "!cp kaggle.json ~/.kaggle/"
      ],
      "metadata": {
        "id": "5FLIMoX4KzDb"
      },
      "execution_count": null,
      "outputs": []
    },
    {
      "cell_type": "code",
      "source": [
        "!kaggle datasets download -d paramaggarwal/fashion-product-images-small"
      ],
      "metadata": {
        "id": "B9g62MNmK0fV"
      },
      "execution_count": null,
      "outputs": []
    },
    {
      "cell_type": "code",
      "source": [
        "import zipfile\n",
        "zip_ref = zipfile.ZipFile('/content/fashion-product-images-small.zip', 'r')\n",
        "zip_ref.extractall('/content')\n",
        "zip_ref.close"
      ],
      "metadata": {
        "id": "y_q1AZ1CK3ho"
      },
      "execution_count": null,
      "outputs": []
    },
    {
      "cell_type": "markdown",
      "source": [
        "Importing required libraries"
      ],
      "metadata": {
        "id": "5DUvwcAs__eW"
      }
    },
    {
      "cell_type": "code",
      "source": [
        "import numpy as np\n",
        "import pandas as pd\n",
        "import seaborn as sns\n",
        "from matplotlib import pyplot as plt\n",
        "import networkx as nx\n",
        "from gensim.models import Word2Vec\n",
        "from sklearn.metrics.pairwise import cosine_similarity\n",
        ";import random"
      ],
      "metadata": {
        "id": "UUk2C9tmR7cE",
        "execution": {
          "iopub.status.busy": "2024-07-25T14:43:36.710273Z",
          "iopub.execute_input": "2024-07-25T14:43:36.710732Z",
          "iopub.status.idle": "2024-07-25T14:43:56.617611Z",
          "shell.execute_reply.started": "2024-07-25T14:43:36.710697Z",
          "shell.execute_reply": "2024-07-25T14:43:56.616400Z"
        },
        "trusted": true
      },
      "execution_count": null,
      "outputs": []
    },
    {
      "cell_type": "code",
      "source": [
        "from google.colab import drive\n",
        "drive.mount('/content/drive')"
      ],
      "metadata": {
        "colab": {
          "base_uri": "https://localhost:8080/"
        },
        "id": "yLHxjgNryLEy",
        "outputId": "05fcceb7-50c9-4177-9f7b-bd5517ac0fe9"
      },
      "execution_count": null,
      "outputs": [
        {
          "output_type": "stream",
          "name": "stdout",
          "text": [
            "Mounted at /content/drive\n"
          ]
        }
      ]
    },
    {
      "cell_type": "code",
      "source": [
        "articles = pd.read_csv(\"/content/myntradataset/styles.csv\", on_bad_lines='skip')\n",
        "articles = articles.sort_values(by='id', ascending=True)\n",
        "articles_sample = articles.head(3000)"
      ],
      "metadata": {
        "id": "bVbTKxcyS6WA",
        "execution": {
          "iopub.status.busy": "2024-07-25T14:44:44.889314Z",
          "iopub.execute_input": "2024-07-25T14:44:44.889856Z",
          "iopub.status.idle": "2024-07-25T14:44:45.026598Z",
          "shell.execute_reply.started": "2024-07-25T14:44:44.889799Z",
          "shell.execute_reply": "2024-07-25T14:44:45.025254Z"
        },
        "trusted": true
      },
      "execution_count": null,
      "outputs": []
    },
    {
      "cell_type": "code",
      "source": [
        "item_name_mapping = dict(zip(articles_sample['id'], articles['productDisplayName']))"
      ],
      "metadata": {
        "id": "7dHCtQMCsIGJ",
        "execution": {
          "iopub.status.busy": "2024-07-25T14:44:50.092067Z",
          "iopub.execute_input": "2024-07-25T14:44:50.093598Z",
          "iopub.status.idle": "2024-07-25T14:44:50.101540Z",
          "shell.execute_reply.started": "2024-07-25T14:44:50.093548Z",
          "shell.execute_reply": "2024-07-25T14:44:50.100116Z"
        },
        "trusted": true
      },
      "execution_count": null,
      "outputs": []
    },
    {
      "cell_type": "markdown",
      "source": [
        "Encoding"
      ],
      "metadata": {
        "id": "VJ-91L39AFm2"
      }
    },
    {
      "cell_type": "code",
      "source": [
        "import pandas as pd\n",
        "from sklearn.preprocessing import LabelEncoder\n",
        "label_encoder = LabelEncoder()\n",
        "articles_sample['gender'] = label_encoder.fit_transform(articles_sample['gender'])\n",
        "articles_sample[ 'baseColour'] = label_encoder.fit_transform(articles_sample['baseColour'])\n",
        "articles_sample[ 'articleType'] = label_encoder.fit_transform(articles_sample['articleType'])"
      ],
      "metadata": {
        "id": "dvw3s4ndTBoH",
        "colab": {
          "base_uri": "https://localhost:8080/"
        },
        "outputId": "6f1d3de9-6d31-4dc2-e9cc-cc50cbacf950",
        "execution": {
          "iopub.status.busy": "2024-07-25T14:44:53.741141Z",
          "iopub.execute_input": "2024-07-25T14:44:53.742114Z",
          "iopub.status.idle": "2024-07-25T14:44:53.756672Z",
          "shell.execute_reply.started": "2024-07-25T14:44:53.742069Z",
          "shell.execute_reply": "2024-07-25T14:44:53.755254Z"
        },
        "trusted": true
      },
      "execution_count": null,
      "outputs": [
        {
          "output_type": "stream",
          "name": "stderr",
          "text": [
            "<ipython-input-10-2c67411d80a5>:4: SettingWithCopyWarning: \n",
            "A value is trying to be set on a copy of a slice from a DataFrame.\n",
            "Try using .loc[row_indexer,col_indexer] = value instead\n",
            "\n",
            "See the caveats in the documentation: https://pandas.pydata.org/pandas-docs/stable/user_guide/indexing.html#returning-a-view-versus-a-copy\n",
            "  articles_sample['gender'] = label_encoder.fit_transform(articles_sample['gender'])\n",
            "<ipython-input-10-2c67411d80a5>:5: SettingWithCopyWarning: \n",
            "A value is trying to be set on a copy of a slice from a DataFrame.\n",
            "Try using .loc[row_indexer,col_indexer] = value instead\n",
            "\n",
            "See the caveats in the documentation: https://pandas.pydata.org/pandas-docs/stable/user_guide/indexing.html#returning-a-view-versus-a-copy\n",
            "  articles_sample[ 'baseColour'] = label_encoder.fit_transform(articles_sample['baseColour'])\n",
            "<ipython-input-10-2c67411d80a5>:6: SettingWithCopyWarning: \n",
            "A value is trying to be set on a copy of a slice from a DataFrame.\n",
            "Try using .loc[row_indexer,col_indexer] = value instead\n",
            "\n",
            "See the caveats in the documentation: https://pandas.pydata.org/pandas-docs/stable/user_guide/indexing.html#returning-a-view-versus-a-copy\n",
            "  articles_sample[ 'articleType'] = label_encoder.fit_transform(articles_sample['articleType'])\n"
          ]
        }
      ]
    },
    {
      "cell_type": "markdown",
      "source": [
        "Creating the graph"
      ],
      "metadata": {
        "id": "VIzleku9AKfk"
      }
    },
    {
      "cell_type": "code",
      "source": [
        "import pandas as pd\n",
        "import networkx as nx\n",
        "from itertools import combinations\n",
        "\n",
        "article_attributes = {}\n",
        "for index, row in articles_sample.iterrows():\n",
        "    article_id = row['id']\n",
        "    attributes = set(row[['gender', 'baseColour', 'articleType']])\n",
        "    article_attributes[article_id] = attributes\n",
        "\n",
        "G = nx.Graph()\n",
        "\n",
        "\n",
        "for (article1, attr1), (article2, attr2) in combinations(article_attributes.items(), 2):\n",
        "    similarity = len(attr1.intersection(attr2)) / len(attr1.union(attr2))\n",
        "    if similarity > 0:\n",
        "        G.add_edge(article1, article2, weight=similarity)"
      ],
      "metadata": {
        "id": "mlwEgOaUJRYh",
        "execution": {
          "iopub.status.busy": "2024-07-25T14:45:03.028938Z",
          "iopub.execute_input": "2024-07-25T14:45:03.030135Z",
          "iopub.status.idle": "2024-07-25T14:45:19.556361Z",
          "shell.execute_reply.started": "2024-07-25T14:45:03.030084Z",
          "shell.execute_reply": "2024-07-25T14:45:19.555143Z"
        },
        "trusted": true
      },
      "execution_count": null,
      "outputs": []
    },
    {
      "cell_type": "code",
      "source": [
        "def biased_random_walk(G, start_node, walk_length, p=1, q=1):\n",
        "    walk = [start_node]\n",
        "\n",
        "    while len(walk) < walk_length:\n",
        "        cur_node = walk[-1]\n",
        "        cur_neighbors = list(G.neighbors(cur_node))\n",
        "\n",
        "        if len(cur_neighbors) > 0:\n",
        "            if len(walk) == 1:\n",
        "                walk.append(random.choice(cur_neighbors))\n",
        "            else:\n",
        "                prev_node = walk[-2]\n",
        "\n",
        "                probability = []\n",
        "                for neighbor in cur_neighbors:\n",
        "                    if neighbor == prev_node:\n",
        "                        # Return parameter\n",
        "                        probability.append(1/p)\n",
        "                    elif G.has_edge(neighbor, prev_node):\n",
        "                        # Stay parameter\n",
        "                        probability.append(1)\n",
        "                    else:\n",
        "                        # In-out parameter\n",
        "                        probability.append(1/q)\n",
        "\n",
        "                probability = np.array(probability)\n",
        "                probability = probability / probability.sum()  # normalize\n",
        "\n",
        "                next_node = np.random.choice(cur_neighbors, p=probability)\n",
        "                walk.append(next_node)\n",
        "        else:\n",
        "            break\n",
        "\n",
        "    return walk"
      ],
      "metadata": {
        "id": "Je0FL8BaTKfs",
        "execution": {
          "iopub.status.busy": "2024-07-25T14:45:37.067036Z",
          "iopub.execute_input": "2024-07-25T14:45:37.067496Z",
          "iopub.status.idle": "2024-07-25T14:45:37.079707Z",
          "shell.execute_reply.started": "2024-07-25T14:45:37.067463Z",
          "shell.execute_reply": "2024-07-25T14:45:37.078079Z"
        },
        "trusted": true
      },
      "execution_count": null,
      "outputs": []
    },
    {
      "cell_type": "code",
      "source": [
        "def generate_walks(G, num_walks, walk_length, p=1, q=1):\n",
        "    walks = []\n",
        "    nodes = list(G.nodes())\n",
        "    for _ in range(num_walks):\n",
        "        random.shuffle(nodes)\n",
        "        for node in nodes:\n",
        "            walk_from_node = biased_random_walk(G, node, walk_length, p, q)\n",
        "            walks.append(walk_from_node)\n",
        "    return walks"
      ],
      "metadata": {
        "id": "Qjo1fGDtTO0r",
        "execution": {
          "iopub.status.busy": "2024-07-25T14:45:53.346303Z",
          "iopub.execute_input": "2024-07-25T14:45:53.346806Z",
          "iopub.status.idle": "2024-07-25T14:45:53.355740Z",
          "shell.execute_reply.started": "2024-07-25T14:45:53.346768Z",
          "shell.execute_reply": "2024-07-25T14:45:53.353923Z"
        },
        "trusted": true
      },
      "execution_count": null,
      "outputs": []
    },
    {
      "cell_type": "markdown",
      "source": [
        "Generating Embeddings using Node2Vec"
      ],
      "metadata": {
        "id": "qVZPbs0DGK-X"
      }
    },
    {
      "cell_type": "code",
      "source": [
        "walks = generate_walks(G, num_walks=10, walk_length=20, p=9, q=1)\n",
        "filtered_walks = [walk for walk in walks if len(walk) >= 5]\n",
        "walks = [[str(node) for node in walk] for walk in walks]\n",
        "model = Word2Vec(walks, vector_size=128, window=5, min_count=0,  hs=1, sg=1, workers=4, epochs=10)\n",
        "embeddings = {node_id: model.wv[node_id] for node_id in model.wv.index_to_key}\n"
      ],
      "metadata": {
        "id": "15l7NAvqkApd",
        "execution": {
          "iopub.status.busy": "2024-07-25T14:46:00.657978Z",
          "iopub.execute_input": "2024-07-25T14:46:00.658424Z",
          "iopub.status.idle": "2024-07-25T15:19:19.161009Z",
          "shell.execute_reply.started": "2024-07-25T14:46:00.658389Z",
          "shell.execute_reply": "2024-07-25T15:19:19.159307Z"
        },
        "trusted": true
      },
      "execution_count": null,
      "outputs": []
    },
    {
      "cell_type": "code",
      "source": [
        "import pickle"
      ],
      "metadata": {
        "execution": {
          "iopub.status.busy": "2024-07-25T15:21:36.957952Z",
          "iopub.execute_input": "2024-07-25T15:21:36.958446Z",
          "iopub.status.idle": "2024-07-25T15:21:36.964609Z",
          "shell.execute_reply.started": "2024-07-25T15:21:36.958408Z",
          "shell.execute_reply": "2024-07-25T15:21:36.963084Z"
        },
        "trusted": true,
        "id": "4fx2llYMyH-E"
      },
      "execution_count": null,
      "outputs": []
    },
    {
      "cell_type": "markdown",
      "source": [
        "Saving the embeddings"
      ],
      "metadata": {
        "id": "vdlHo1XNGGgG"
      }
    },
    {
      "cell_type": "code",
      "source": [
        "with open('embeddings.pkl', 'wb') as f:\n",
        "    pickle.dump(embeddings, f)"
      ],
      "metadata": {
        "id": "R7PeDB7C0Y4J"
      },
      "execution_count": null,
      "outputs": []
    },
    {
      "cell_type": "code",
      "source": [
        "with open('/content/embeddings3K.pkl', 'rb') as f:\n",
        "    embeddings=pickle.load(f)"
      ],
      "metadata": {
        "execution": {
          "iopub.status.busy": "2024-07-25T15:21:39.721216Z",
          "iopub.execute_input": "2024-07-25T15:21:39.721659Z",
          "iopub.status.idle": "2024-07-25T15:21:39.753781Z",
          "shell.execute_reply.started": "2024-07-25T15:21:39.721627Z",
          "shell.execute_reply": "2024-07-25T15:21:39.752335Z"
        },
        "trusted": true,
        "id": "Jfe7gv6vyH-F"
      },
      "execution_count": null,
      "outputs": []
    },
    {
      "cell_type": "markdown",
      "source": [
        "Show Images Function"
      ],
      "metadata": {
        "id": "jhHS41BGGCGR"
      }
    },
    {
      "cell_type": "code",
      "source": [
        "def show_images(items, item_name_mapping, num_items, show_similarity=False):\n",
        "    f, ax = plt.subplots(1, num_items, figsize=(5,5))\n",
        "    if num_items == 1:\n",
        "        ax = [ax]\n",
        "    for i, item in enumerate(items):\n",
        "        item_id, similarity = item\n",
        "        # print(f\"- Item {item_id}: {item_name_mapping[item_id]}\", end='')\n",
        "        # if show_similarity:\n",
        "        #     print(f\" with similarity score: {similarity}\")\n",
        "        # else:\n",
        "        #     print()\n",
        "        img_path = f\"/content/myntradataset/images/{int(item_id)}.jpg\"\n",
        "        try:\n",
        "            img = mpimg.imread(img_path)\n",
        "            ax[i].imshow(img)\n",
        "            ax[i].set_title(f'Item {item_id}')\n",
        "            ax[i].set_xticks([], [])\n",
        "            ax[i].set_yticks([], [])\n",
        "            ax[i].grid(False)\n",
        "        except FileNotFoundError:\n",
        "            print(f\"Image for item {item_id} not found.\")\n",
        "    plt.show()"
      ],
      "metadata": {
        "id": "3yzHqgVLkVcK",
        "execution": {
          "iopub.status.busy": "2024-07-25T15:22:25.692213Z",
          "iopub.execute_input": "2024-07-25T15:22:25.692682Z",
          "iopub.status.idle": "2024-07-25T15:22:25.704463Z",
          "shell.execute_reply.started": "2024-07-25T15:22:25.692649Z",
          "shell.execute_reply": "2024-07-25T15:22:25.703180Z"
        },
        "trusted": true
      },
      "execution_count": null,
      "outputs": []
    },
    {
      "cell_type": "code",
      "source": [
        "!pip install torch_geometric"
      ],
      "metadata": {
        "colab": {
          "base_uri": "https://localhost:8080/"
        },
        "id": "CjchoNuRrASg",
        "outputId": "c46c5879-e8a1-4a8a-a4c2-7fd8c9011c7e",
        "execution": {
          "iopub.status.busy": "2024-07-25T15:22:41.157358Z",
          "iopub.execute_input": "2024-07-25T15:22:41.157837Z",
          "iopub.status.idle": "2024-07-25T15:22:59.245526Z",
          "shell.execute_reply.started": "2024-07-25T15:22:41.157786Z",
          "shell.execute_reply": "2024-07-25T15:22:59.243912Z"
        },
        "trusted": true
      },
      "execution_count": null,
      "outputs": [
        {
          "output_type": "stream",
          "name": "stdout",
          "text": [
            "Collecting torch_geometric\n",
            "  Downloading torch_geometric-2.5.3-py3-none-any.whl.metadata (64 kB)\n",
            "\u001b[?25l     \u001b[90m━━━━━━━━━━━━━━━━━━━━━━━━━━━━━━━━━━━━━━━━\u001b[0m \u001b[32m0.0/64.2 kB\u001b[0m \u001b[31m?\u001b[0m eta \u001b[36m-:--:--\u001b[0m\r\u001b[2K     \u001b[90m━━━━━━━━━━━━━━━━━━━━━━━━━━━━━━━━━━━━━━━━\u001b[0m \u001b[32m64.2/64.2 kB\u001b[0m \u001b[31m2.6 MB/s\u001b[0m eta \u001b[36m0:00:00\u001b[0m\n",
            "\u001b[?25hRequirement already satisfied: tqdm in /usr/local/lib/python3.10/dist-packages (from torch_geometric) (4.66.4)\n",
            "Requirement already satisfied: numpy in /usr/local/lib/python3.10/dist-packages (from torch_geometric) (1.25.2)\n",
            "Requirement already satisfied: scipy in /usr/local/lib/python3.10/dist-packages (from torch_geometric) (1.11.4)\n",
            "Requirement already satisfied: fsspec in /usr/local/lib/python3.10/dist-packages (from torch_geometric) (2023.6.0)\n",
            "Requirement already satisfied: jinja2 in /usr/local/lib/python3.10/dist-packages (from torch_geometric) (3.1.4)\n",
            "Requirement already satisfied: aiohttp in /usr/local/lib/python3.10/dist-packages (from torch_geometric) (3.9.5)\n",
            "Requirement already satisfied: requests in /usr/local/lib/python3.10/dist-packages (from torch_geometric) (2.31.0)\n",
            "Requirement already satisfied: pyparsing in /usr/local/lib/python3.10/dist-packages (from torch_geometric) (3.1.2)\n",
            "Requirement already satisfied: scikit-learn in /usr/local/lib/python3.10/dist-packages (from torch_geometric) (1.2.2)\n",
            "Requirement already satisfied: psutil>=5.8.0 in /usr/local/lib/python3.10/dist-packages (from torch_geometric) (5.9.5)\n",
            "Requirement already satisfied: aiosignal>=1.1.2 in /usr/local/lib/python3.10/dist-packages (from aiohttp->torch_geometric) (1.3.1)\n",
            "Requirement already satisfied: attrs>=17.3.0 in /usr/local/lib/python3.10/dist-packages (from aiohttp->torch_geometric) (23.2.0)\n",
            "Requirement already satisfied: frozenlist>=1.1.1 in /usr/local/lib/python3.10/dist-packages (from aiohttp->torch_geometric) (1.4.1)\n",
            "Requirement already satisfied: multidict<7.0,>=4.5 in /usr/local/lib/python3.10/dist-packages (from aiohttp->torch_geometric) (6.0.5)\n",
            "Requirement already satisfied: yarl<2.0,>=1.0 in /usr/local/lib/python3.10/dist-packages (from aiohttp->torch_geometric) (1.9.4)\n",
            "Requirement already satisfied: async-timeout<5.0,>=4.0 in /usr/local/lib/python3.10/dist-packages (from aiohttp->torch_geometric) (4.0.3)\n",
            "Requirement already satisfied: MarkupSafe>=2.0 in /usr/local/lib/python3.10/dist-packages (from jinja2->torch_geometric) (2.1.5)\n",
            "Requirement already satisfied: charset-normalizer<4,>=2 in /usr/local/lib/python3.10/dist-packages (from requests->torch_geometric) (3.3.2)\n",
            "Requirement already satisfied: idna<4,>=2.5 in /usr/local/lib/python3.10/dist-packages (from requests->torch_geometric) (3.7)\n",
            "Requirement already satisfied: urllib3<3,>=1.21.1 in /usr/local/lib/python3.10/dist-packages (from requests->torch_geometric) (2.0.7)\n",
            "Requirement already satisfied: certifi>=2017.4.17 in /usr/local/lib/python3.10/dist-packages (from requests->torch_geometric) (2024.7.4)\n",
            "Requirement already satisfied: joblib>=1.1.1 in /usr/local/lib/python3.10/dist-packages (from scikit-learn->torch_geometric) (1.4.2)\n",
            "Requirement already satisfied: threadpoolctl>=2.0.0 in /usr/local/lib/python3.10/dist-packages (from scikit-learn->torch_geometric) (3.5.0)\n",
            "Downloading torch_geometric-2.5.3-py3-none-any.whl (1.1 MB)\n",
            "\u001b[2K   \u001b[90m━━━━━━━━━━━━━━━━━━━━━━━━━━━━━━━━━━━━━━━━\u001b[0m \u001b[32m1.1/1.1 MB\u001b[0m \u001b[31m22.4 MB/s\u001b[0m eta \u001b[36m0:00:00\u001b[0m\n",
            "\u001b[?25hInstalling collected packages: torch_geometric\n",
            "Successfully installed torch_geometric-2.5.3\n"
          ]
        }
      ]
    },
    {
      "cell_type": "markdown",
      "source": [
        "Converting Graph to PyTorch Geometric Data"
      ],
      "metadata": {
        "id": "DtoCeK6zFXz_"
      }
    },
    {
      "cell_type": "code",
      "source": [
        "import torch\n",
        "import torch.nn.functional as F\n",
        "from torch_geometric.nn import GCNConv\n",
        "from torch_geometric.data import Data\n",
        "from torch_geometric.utils import from_networkx\n",
        "data = from_networkx(G)\n",
        "node_features = np.array([embeddings[str(node)] for node in G.nodes])\n",
        "data.x = torch.tensor(node_features, dtype=torch.float)"
      ],
      "metadata": {
        "id": "VyKgXfZirEaK",
        "execution": {
          "iopub.status.busy": "2024-07-25T15:23:03.545325Z",
          "iopub.execute_input": "2024-07-25T15:23:03.545827Z",
          "iopub.status.idle": "2024-07-25T15:25:47.239244Z",
          "shell.execute_reply.started": "2024-07-25T15:23:03.545768Z",
          "shell.execute_reply": "2024-07-25T15:25:47.238157Z"
        },
        "trusted": true
      },
      "execution_count": null,
      "outputs": []
    },
    {
      "cell_type": "markdown",
      "source": [
        "Model Initialization and Training"
      ],
      "metadata": {
        "id": "ZCTskSuKFdsg"
      }
    },
    {
      "cell_type": "code",
      "source": [
        "class GCN(torch.nn.Module):\n",
        "    def __init__(self, num_node_features):\n",
        "        super(GCN, self).__init__()\n",
        "        self.conv1 = GCNConv(num_node_features, 128)\n",
        "        self.conv2 = GCNConv(128,128)\n",
        "\n",
        "    def forward(self, data):\n",
        "        x, edge_index = data.x, data.edge_index\n",
        "        x = self.conv1(x, edge_index)\n",
        "        x = F.relu(x)\n",
        "        x = self.conv2(x, edge_index)\n",
        "        return x\n",
        "\n",
        "model = GCN(num_node_features=node_features.shape[1])\n",
        "optimizer = torch.optim.Adam(model.parameters(), lr=0.01)\n",
        "criterion = torch.nn.MSELoss()\n",
        "\n",
        "model.train()\n",
        "for epoch in range(200):\n",
        "    optimizer.zero_grad()\n",
        "    out = model(data)\n",
        "    loss = criterion(out, data.x)\n",
        "    loss.backward()\n",
        "    optimizer.step()\n",
        "    print(f'Epoch {epoch+1}, Loss: {loss.item()}')\n"
      ],
      "metadata": {
        "colab": {
          "base_uri": "https://localhost:8080/"
        },
        "id": "r9sCYiDerHyT",
        "outputId": "84b2520f-2dd8-47d3-b46d-14ad87fbda44",
        "execution": {
          "iopub.status.busy": "2024-07-25T15:26:19.266458Z",
          "iopub.execute_input": "2024-07-25T15:26:19.267358Z",
          "iopub.status.idle": "2024-07-25T16:15:03.661206Z",
          "shell.execute_reply.started": "2024-07-25T15:26:19.267317Z",
          "shell.execute_reply": "2024-07-25T16:15:03.659668Z"
        },
        "trusted": true
      },
      "execution_count": null,
      "outputs": [
        {
          "output_type": "stream",
          "name": "stdout",
          "text": [
            "Epoch 1, Loss: 0.0503493994474411\n",
            "Epoch 2, Loss: 0.0464714877307415\n",
            "Epoch 3, Loss: 0.04485059157013893\n",
            "Epoch 4, Loss: 0.044296614825725555\n",
            "Epoch 5, Loss: 0.04392652213573456\n",
            "Epoch 6, Loss: 0.043726954609155655\n",
            "Epoch 7, Loss: 0.043583255261182785\n",
            "Epoch 8, Loss: 0.04345916584134102\n",
            "Epoch 9, Loss: 0.04330522567033768\n",
            "Epoch 10, Loss: 0.04312825947999954\n",
            "Epoch 11, Loss: 0.042940374463796616\n",
            "Epoch 12, Loss: 0.042753804475069046\n",
            "Epoch 13, Loss: 0.04257398843765259\n",
            "Epoch 14, Loss: 0.04241705685853958\n",
            "Epoch 15, Loss: 0.042288728058338165\n",
            "Epoch 16, Loss: 0.042180318385362625\n",
            "Epoch 17, Loss: 0.042086221277713776\n",
            "Epoch 18, Loss: 0.042006831616163254\n",
            "Epoch 19, Loss: 0.04194120317697525\n",
            "Epoch 20, Loss: 0.041879527270793915\n",
            "Epoch 21, Loss: 0.04181978479027748\n",
            "Epoch 22, Loss: 0.041760873049497604\n",
            "Epoch 23, Loss: 0.04170261695981026\n",
            "Epoch 24, Loss: 0.04164186492562294\n",
            "Epoch 25, Loss: 0.04157904163002968\n",
            "Epoch 26, Loss: 0.04151388630270958\n",
            "Epoch 27, Loss: 0.04144786298274994\n",
            "Epoch 28, Loss: 0.041378818452358246\n",
            "Epoch 29, Loss: 0.04130759462714195\n",
            "Epoch 30, Loss: 0.04123520478606224\n",
            "Epoch 31, Loss: 0.04116399958729744\n",
            "Epoch 32, Loss: 0.04109442979097366\n",
            "Epoch 33, Loss: 0.04102931544184685\n",
            "Epoch 34, Loss: 0.04096907377243042\n",
            "Epoch 35, Loss: 0.040916044265031815\n",
            "Epoch 36, Loss: 0.04086996242403984\n",
            "Epoch 37, Loss: 0.04083229973912239\n",
            "Epoch 38, Loss: 0.04080267623066902\n",
            "Epoch 39, Loss: 0.04077994450926781\n",
            "Epoch 40, Loss: 0.0407625250518322\n",
            "Epoch 41, Loss: 0.040748678147792816\n",
            "Epoch 42, Loss: 0.04073731601238251\n",
            "Epoch 43, Loss: 0.040727339684963226\n",
            "Epoch 44, Loss: 0.04071774706244469\n",
            "Epoch 45, Loss: 0.040708817541599274\n",
            "Epoch 46, Loss: 0.040697935968637466\n",
            "Epoch 47, Loss: 0.040686171501874924\n",
            "Epoch 48, Loss: 0.04067401960492134\n",
            "Epoch 49, Loss: 0.04066149517893791\n",
            "Epoch 50, Loss: 0.04065031558275223\n",
            "Epoch 51, Loss: 0.040640197694301605\n",
            "Epoch 52, Loss: 0.04063144326210022\n",
            "Epoch 53, Loss: 0.04062395170331001\n",
            "Epoch 54, Loss: 0.04061705619096756\n",
            "Epoch 55, Loss: 0.040610674768686295\n",
            "Epoch 56, Loss: 0.04060409590601921\n",
            "Epoch 57, Loss: 0.04059697315096855\n",
            "Epoch 58, Loss: 0.04058864712715149\n",
            "Epoch 59, Loss: 0.040579650551080704\n",
            "Epoch 60, Loss: 0.04056968912482262\n",
            "Epoch 61, Loss: 0.0405588373541832\n",
            "Epoch 62, Loss: 0.040547195822000504\n",
            "Epoch 63, Loss: 0.04053482413291931\n",
            "Epoch 64, Loss: 0.04052213951945305\n",
            "Epoch 65, Loss: 0.0405099093914032\n",
            "Epoch 66, Loss: 0.04050165414810181\n",
            "Epoch 67, Loss: 0.04050551727414131\n",
            "Epoch 68, Loss: 0.04050905257463455\n",
            "Epoch 69, Loss: 0.04047062247991562\n",
            "Epoch 70, Loss: 0.040439825505018234\n",
            "Epoch 71, Loss: 0.04044809564948082\n",
            "Epoch 72, Loss: 0.04041621834039688\n",
            "Epoch 73, Loss: 0.04039493948221207\n",
            "Epoch 74, Loss: 0.040393754839897156\n",
            "Epoch 75, Loss: 0.04036010056734085\n",
            "Epoch 76, Loss: 0.04034777730703354\n",
            "Epoch 77, Loss: 0.04033331200480461\n",
            "Epoch 78, Loss: 0.04030319303274155\n",
            "Epoch 79, Loss: 0.04029269516468048\n",
            "Epoch 80, Loss: 0.04026927053928375\n",
            "Epoch 81, Loss: 0.040243979543447495\n",
            "Epoch 82, Loss: 0.04022587835788727\n",
            "Epoch 83, Loss: 0.040206655859947205\n",
            "Epoch 84, Loss: 0.04018528386950493\n",
            "Epoch 85, Loss: 0.04015582799911499\n",
            "Epoch 86, Loss: 0.04013104364275932\n",
            "Epoch 87, Loss: 0.04011083021759987\n",
            "Epoch 88, Loss: 0.04009384661912918\n",
            "Epoch 89, Loss: 0.04009536653757095\n",
            "Epoch 90, Loss: 0.0401257760822773\n",
            "Epoch 91, Loss: 0.040145013481378555\n",
            "Epoch 92, Loss: 0.04002455994486809\n",
            "Epoch 93, Loss: 0.0400034561753273\n",
            "Epoch 94, Loss: 0.040042705833911896\n",
            "Epoch 95, Loss: 0.03995521366596222\n",
            "Epoch 96, Loss: 0.03993761166930199\n",
            "Epoch 97, Loss: 0.03997209295630455\n",
            "Epoch 98, Loss: 0.039888400584459305\n",
            "Epoch 99, Loss: 0.039881423115730286\n",
            "Epoch 100, Loss: 0.039898842573165894\n",
            "Epoch 101, Loss: 0.039829667657613754\n",
            "Epoch 102, Loss: 0.03981440141797066\n",
            "Epoch 103, Loss: 0.039839036762714386\n",
            "Epoch 104, Loss: 0.03978293389081955\n",
            "Epoch 105, Loss: 0.03974569961428642\n",
            "Epoch 106, Loss: 0.03976237773895264\n",
            "Epoch 107, Loss: 0.039751771837472916\n",
            "Epoch 108, Loss: 0.03970855847001076\n",
            "Epoch 109, Loss: 0.03967206925153732\n",
            "Epoch 110, Loss: 0.03967646136879921\n",
            "Epoch 111, Loss: 0.03967119753360748\n",
            "Epoch 112, Loss: 0.03964316472411156\n",
            "Epoch 113, Loss: 0.03960445523262024\n",
            "Epoch 114, Loss: 0.03959305211901665\n",
            "Epoch 115, Loss: 0.039590250700712204\n",
            "Epoch 116, Loss: 0.03957824036478996\n",
            "Epoch 117, Loss: 0.03955161198973656\n",
            "Epoch 118, Loss: 0.03952227905392647\n",
            "Epoch 119, Loss: 0.03950660303235054\n",
            "Epoch 120, Loss: 0.039495665580034256\n",
            "Epoch 121, Loss: 0.039496760815382004\n",
            "Epoch 122, Loss: 0.039506155997514725\n",
            "Epoch 123, Loss: 0.03954537957906723\n",
            "Epoch 124, Loss: 0.039579082280397415\n",
            "Epoch 125, Loss: 0.039580319076776505\n",
            "Epoch 126, Loss: 0.03943582996726036\n",
            "Epoch 127, Loss: 0.039418671280145645\n",
            "Epoch 128, Loss: 0.03947780281305313\n",
            "Epoch 129, Loss: 0.03941042721271515\n",
            "Epoch 130, Loss: 0.03936992213129997\n",
            "Epoch 131, Loss: 0.03939683735370636\n",
            "Epoch 132, Loss: 0.039370596408843994\n",
            "Epoch 133, Loss: 0.03933384642004967\n",
            "Epoch 134, Loss: 0.03933387249708176\n",
            "Epoch 135, Loss: 0.03932999446988106\n",
            "Epoch 136, Loss: 0.03929736092686653\n",
            "Epoch 137, Loss: 0.039288509637117386\n",
            "Epoch 138, Loss: 0.039284318685531616\n",
            "Epoch 139, Loss: 0.039262205362319946\n",
            "Epoch 140, Loss: 0.03925209119915962\n",
            "Epoch 141, Loss: 0.03924236819148064\n",
            "Epoch 142, Loss: 0.039225537329912186\n",
            "Epoch 143, Loss: 0.039224494248628616\n",
            "Epoch 144, Loss: 0.039199575781822205\n",
            "Epoch 145, Loss: 0.039189573377370834\n",
            "Epoch 146, Loss: 0.03919476270675659\n",
            "Epoch 147, Loss: 0.039170775562524796\n",
            "Epoch 148, Loss: 0.039164770394563675\n",
            "Epoch 149, Loss: 0.03915572166442871\n",
            "Epoch 150, Loss: 0.039135657250881195\n",
            "Epoch 151, Loss: 0.03913260996341705\n",
            "Epoch 152, Loss: 0.039124783128499985\n",
            "Epoch 153, Loss: 0.03911538049578667\n",
            "Epoch 154, Loss: 0.03911749646067619\n",
            "Epoch 155, Loss: 0.039124805480241776\n",
            "Epoch 156, Loss: 0.039159055799245834\n",
            "Epoch 157, Loss: 0.03924082964658737\n",
            "Epoch 158, Loss: 0.03926161304116249\n",
            "Epoch 159, Loss: 0.039154715836048126\n",
            "Epoch 160, Loss: 0.03906982019543648\n",
            "Epoch 161, Loss: 0.03913568705320358\n",
            "Epoch 162, Loss: 0.039124421775341034\n",
            "Epoch 163, Loss: 0.03906024247407913\n",
            "Epoch 164, Loss: 0.039088550955057144\n",
            "Epoch 165, Loss: 0.039080649614334106\n",
            "Epoch 166, Loss: 0.03904631733894348\n",
            "Epoch 167, Loss: 0.039056409150362015\n",
            "Epoch 168, Loss: 0.03904857113957405\n",
            "Epoch 169, Loss: 0.03903094679117203\n",
            "Epoch 170, Loss: 0.03902696818113327\n",
            "Epoch 171, Loss: 0.03902306780219078\n",
            "Epoch 172, Loss: 0.03901759162545204\n",
            "Epoch 173, Loss: 0.039002977311611176\n",
            "Epoch 174, Loss: 0.03899948298931122\n",
            "Epoch 175, Loss: 0.03900523856282234\n",
            "Epoch 176, Loss: 0.03898317739367485\n",
            "Epoch 177, Loss: 0.03898128122091293\n",
            "Epoch 178, Loss: 0.0389840267598629\n",
            "Epoch 179, Loss: 0.03896507993340492\n",
            "Epoch 180, Loss: 0.03896916285157204\n",
            "Epoch 181, Loss: 0.0389668270945549\n",
            "Epoch 182, Loss: 0.03895237296819687\n",
            "Epoch 183, Loss: 0.03895711153745651\n",
            "Epoch 184, Loss: 0.038946717977523804\n",
            "Epoch 185, Loss: 0.03894001618027687\n",
            "Epoch 186, Loss: 0.038944706320762634\n",
            "Epoch 187, Loss: 0.03892936930060387\n",
            "Epoch 188, Loss: 0.03892553225159645\n",
            "Epoch 189, Loss: 0.0389307364821434\n",
            "Epoch 190, Loss: 0.03891599178314209\n",
            "Epoch 191, Loss: 0.03890823945403099\n",
            "Epoch 192, Loss: 0.03891373798251152\n",
            "Epoch 193, Loss: 0.0389062874019146\n",
            "Epoch 194, Loss: 0.03889535740017891\n",
            "Epoch 195, Loss: 0.03889751806855202\n",
            "Epoch 196, Loss: 0.03889850527048111\n",
            "Epoch 197, Loss: 0.03888750448822975\n",
            "Epoch 198, Loss: 0.038883011788129807\n",
            "Epoch 199, Loss: 0.03888697549700737\n",
            "Epoch 200, Loss: 0.03888910636305809\n"
          ]
        }
      ]
    },
    {
      "cell_type": "markdown",
      "source": [
        "Saving the model"
      ],
      "metadata": {
        "id": "VIFL78csF9hR"
      }
    },
    {
      "cell_type": "code",
      "source": [
        "import torch\n",
        "torch.save(model.state_dict(), 'gcn_model.pth')\n",
        "torch.save(optimizer.state_dict(), 'optimizer.pth')\n"
      ],
      "metadata": {
        "id": "uEHE2_7pxR03"
      },
      "execution_count": null,
      "outputs": []
    },
    {
      "cell_type": "code",
      "source": [
        "import torch\n",
        "model = GCN(num_node_features=node_features.shape[1])\n",
        "optimizer = torch.optim.Adam(model.parameters(), lr=0.01)\n",
        "model.load_state_dict(torch.load('gcn_model.pth'))\n",
        "optimizer.load_state_dict(torch.load('optimizer.pth'))\n",
        "model.eval()\n"
      ],
      "metadata": {
        "colab": {
          "base_uri": "https://localhost:8080/"
        },
        "id": "lzq61eHFxSkm",
        "outputId": "b259ef55-b82c-4856-db84-c66e7cb95059"
      },
      "execution_count": null,
      "outputs": [
        {
          "output_type": "execute_result",
          "data": {
            "text/plain": [
              "GCN(\n",
              "  (conv1): GCNConv(128, 128)\n",
              "  (conv2): GCNConv(128, 128)\n",
              ")"
            ]
          },
          "metadata": {},
          "execution_count": 25
        }
      ]
    },
    {
      "cell_type": "code",
      "source": [
        "model.eval()\n",
        "with torch.no_grad():\n",
        "    new_embeddings = model(data)"
      ],
      "metadata": {
        "id": "s6G13a4zrQV0",
        "colab": {
          "base_uri": "https://localhost:8080/"
        },
        "outputId": "fa5c8691-2500-4f2e-9660-6c3a9c8eef8f",
        "execution": {
          "iopub.status.busy": "2024-07-25T16:15:16.683375Z",
          "iopub.execute_input": "2024-07-25T16:15:16.683908Z",
          "iopub.status.idle": "2024-07-25T16:15:16.695157Z",
          "shell.execute_reply.started": "2024-07-25T16:15:16.683866Z",
          "shell.execute_reply": "2024-07-25T16:15:16.693718Z"
        },
        "trusted": true
      },
      "execution_count": null,
      "outputs": [
        {
          "output_type": "execute_result",
          "data": {
            "text/plain": [
              "GCN(\n",
              "  (conv1): GCNConv(128, 128)\n",
              "  (conv2): GCNConv(128, 128)\n",
              ")"
            ]
          },
          "metadata": {},
          "execution_count": 26
        }
      ]
    },
    {
      "cell_type": "markdown",
      "source": [
        "Recommending Items"
      ],
      "metadata": {
        "id": "8ETJ1EiREugM"
      }
    },
    {
      "cell_type": "code",
      "source": [
        "\n",
        "def calculate_new_similarities(id, df, new_embeddings, article_id_mapping):\n",
        "    rated_items = set(df['id'])\n",
        "    article_embedding = new_embeddings[article_id_mapping[id]].numpy()\n",
        "\n",
        "\n",
        "    item_similarities = []\n",
        "    for item_id in set(df['id']):\n",
        "        if item_id  in rated_items:\n",
        "            item_embedding = new_embeddings[article_id_mapping[item_id]].numpy()\n",
        "            similarity = cosine_similarity([article_embedding], [item_embedding])[0][0]\n",
        "            item_similarities.append((item_id, similarity))\n",
        "\n",
        "\n",
        "    return item_similarities\n",
        "\n",
        "def recommend_new_items(id, df, new_embeddings, item_name_mapping, article_id_mapping, num_items=5):\n",
        "    rated_items = set(df['id'])\n",
        "\n",
        "    print(f\"Similar articles to {id}:\")\n",
        "\n",
        "    item_similarities = calculate_new_similarities(id, df, new_embeddings, article_id_mapping)\n",
        "\n",
        "    recommended_items = sorted(item_similarities, key=lambda x: x[1], reverse=True)[:num_items]\n",
        "\n",
        "\n",
        "    print(f\"\\nRecommended items for article {id}:\")\n",
        "    show_images(recommended_items, item_name_mapping, num_items, show_similarity=True)\n",
        "\n",
        "\n",
        "article_id_mapping = {id: i for i, id in enumerate(G.nodes) if str(id).isdigit()}\n",
        "\n",
        "recommend_new_items(2098, articles_sample, new_embeddings, item_name_mapping, article_id_mapping, num_items=3)\n",
        "input_image=\"/content/images/2098.jpg\"\n",
        "from IPython.display import Image\n",
        "Image(input_image)\n"
      ],
      "metadata": {
        "colab": {
          "base_uri": "https://localhost:8080/",
          "height": 343
        },
        "id": "PZHqWyVbrT_n",
        "outputId": "20238672-14f9-4464-f7d9-4a56e241f61e",
        "execution": {
          "iopub.status.busy": "2024-07-25T18:15:21.813766Z",
          "iopub.execute_input": "2024-07-25T18:15:21.814317Z",
          "iopub.status.idle": "2024-07-25T18:15:23.228544Z",
          "shell.execute_reply.started": "2024-07-25T18:15:21.814281Z",
          "shell.execute_reply": "2024-07-25T18:15:23.227190Z"
        },
        "trusted": true
      },
      "execution_count": null,
      "outputs": [
        {
          "output_type": "stream",
          "name": "stdout",
          "text": [
            "Similar articles to 2098:\n",
            "\n",
            "Recommended items for article 2098:\n"
          ]
        },
        {
          "output_type": "display_data",
          "data": {
            "text/plain": [
              "<Figure size 500x500 with 3 Axes>"
            ],
            "image/png": "[encoded data removed]"
          },
          "metadata": {}
        },
        {
          "output_type": "execute_result",
          "data": {
            "image/jpeg": "[encoded data removed]",
            "text/plain": [
              "<IPython.core.display.Image object>"
            ]
          },
          "metadata": {},
          "execution_count": 82
        }
      ]
    },
    {
      "cell_type": "markdown",
      "source": [
        "Calculating Accuracy"
      ],
      "metadata": {
        "id": "ZIFnRu3hFof1"
      }
    },
    {
      "cell_type": "code",
      "source": [
        "import os\n",
        "import pandas as pd\n",
        "from sklearn.metrics.pairwise import cosine_similarity\n",
        "\n",
        "def compute_similarity(embedding1, embedding2):\n",
        "    return cosine_similarity([embedding1], [embedding2])[0][0]\n",
        "\n",
        "def process_folders(manual_base_path, model_base_path, num_folders, new_embeddings, article_id_mapping):\n",
        "    similarities = []\n",
        "\n",
        "\n",
        "    for i in range(1, num_folders + 1):\n",
        "        manual_folder = os.path.join(manual_base_path, f'test{i}_manual')\n",
        "        model_folder = os.path.join(model_base_path, f'test{i}_rec')\n",
        "\n",
        "\n",
        "        manual_images = sorted(os.listdir(manual_folder))\n",
        "        model_images = sorted(os.listdir(model_folder))\n",
        "\n",
        "        folder_similarities = []\n",
        "\n",
        "        for man_img, mod_img in zip(manual_images, model_images):\n",
        "\n",
        "            man_article_id = int(os.path.splitext(man_img)[0])\n",
        "            mod_article_id = int(os.path.splitext(mod_img)[0])\n",
        "\n",
        "\n",
        "            man_embedding = new_embeddings[article_id_mapping[man_article_id]].numpy()\n",
        "            mod_embedding = new_embeddings[article_id_mapping[mod_article_id]].numpy()\n",
        "\n",
        "\n",
        "            similarity = compute_similarity(man_embedding, mod_embedding)\n",
        "            folder_similarities.append((f'manrec{i}/{man_img}', f'rec{i}/{mod_img}', similarity))\n",
        "\n",
        "\n",
        "        similarities.extend(folder_similarities)\n",
        "\n",
        "    return similarities\n",
        "\n",
        "manual_base_path = '/content/drive/MyDrive/Manual'\n",
        "model_base_path = '/content/drive/MyDrive/Model'\n",
        "num_folders = 22\n",
        "\n",
        "similarities = process_folders(manual_base_path, model_base_path, num_folders, new_embeddings, article_id_mapping)\n",
        "\n",
        "\n",
        "df = pd.DataFrame(similarities, columns=['Manual Image', 'Model Image', 'Similarity'])\n",
        "df.to_csv('image_similarities.csv', index=False)\n",
        "mean_similarity = df['Similarity'].mean()\n",
        "\n",
        "print(f\"\\nMean Similarity: {mean_similarity}\")\n"
      ],
      "metadata": {
        "colab": {
          "base_uri": "https://localhost:8080/"
        },
        "id": "uziMbEGx02-g",
        "outputId": "c595980f-c552-42b7-d750-eb366c78830f"
      },
      "execution_count": null,
      "outputs": [
        {
          "output_type": "stream",
          "name": "stdout",
          "text": [
            "\n",
            "Mean Similarity: 0.9558110237121582\n"
          ]
        }
      ]
    },
    {
      "cell_type": "markdown",
      "source": [
        "Visualization"
      ],
      "metadata": {
        "id": "U7GgbGcuFwUE"
      }
    },
    {
      "cell_type": "code",
      "source": [
        "import matplotlib.pyplot as plt\n",
        "models = ['GCN', 'CNN']\n",
        "similarity_scores = [0.95, 0.85]\n",
        "\n",
        "# Create bar chart\n",
        "plt.figure(figsize=(8, 5))\n",
        "plt.bar(models, similarity_scores, color=['blue', 'pink'])\n",
        "\n",
        "# Add title and labels\n",
        "plt.title('Model Comparison Based on Similarity Scores')\n",
        "plt.xlabel('Models')\n",
        "plt.ylabel('Similarity Score')\n",
        "\n",
        "# Display the plot\n",
        "plt.ylim(0, 1)  # Ensure the y-axis goes from 0 to 1\n",
        "plt.show()\n"
      ],
      "metadata": {
        "colab": {
          "base_uri": "https://localhost:8080/",
          "height": 487
        },
        "id": "CEEHyG6n8U78",
        "outputId": "0371ee13-ab66-4b67-870e-1da8e538eb82"
      },
      "execution_count": null,
      "outputs": [
        {
          "output_type": "display_data",
          "data": {
            "text/plain": [
              "<Figure size 800x500 with 1 Axes>"
            ],
            "image/png": "[encoded data removed]"
          },
          "metadata": {}
        }
      ]
    }
  ]
}